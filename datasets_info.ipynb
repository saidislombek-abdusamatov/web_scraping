{
 "cells": [
  {
   "cell_type": "code",
   "execution_count": 1,
   "id": "8b130d07-45e0-4940-a8f9-e322fbe125a4",
   "metadata": {
    "tags": []
   },
   "outputs": [],
   "source": [
    "import pandas as pd\n",
    "import os"
   ]
  },
  {
   "cell_type": "markdown",
   "id": "ea298634-362c-490a-b0e8-d8f5b44f8173",
   "metadata": {},
   "source": [
    "## kun.uz"
   ]
  },
  {
   "cell_type": "code",
   "execution_count": 2,
   "id": "64f3539a-d7b2-4d3a-ae1d-38266c098a02",
   "metadata": {
    "tags": []
   },
   "outputs": [
    {
     "data": {
      "text/html": [
       "<div>\n",
       "<style scoped>\n",
       "    .dataframe tbody tr th:only-of-type {\n",
       "        vertical-align: middle;\n",
       "    }\n",
       "\n",
       "    .dataframe tbody tr th {\n",
       "        vertical-align: top;\n",
       "    }\n",
       "\n",
       "    .dataframe thead th {\n",
       "        text-align: right;\n",
       "    }\n",
       "</style>\n",
       "<table border=\"1\" class=\"dataframe\">\n",
       "  <thead>\n",
       "    <tr style=\"text-align: right;\">\n",
       "      <th></th>\n",
       "      <th>date</th>\n",
       "      <th>title</th>\n",
       "      <th>content</th>\n",
       "      <th>category</th>\n",
       "      <th>hashtag</th>\n",
       "    </tr>\n",
       "  </thead>\n",
       "  <tbody>\n",
       "    <tr>\n",
       "      <th>145827</th>\n",
       "      <td>01:08 / 03.09.2019</td>\n",
       "      <td>Tramp AQShning asosiy dushmanlarini sanab o‘tdi</td>\n",
       "      <td>AQSh prezidenti Donald Tramp yolg‘on tarqatuvc...</td>\n",
       "      <td>Jahon yangiliklari</td>\n",
       "      <td>#Donald Tramp,#AQSh</td>\n",
       "    </tr>\n",
       "    <tr>\n",
       "      <th>39471</th>\n",
       "      <td>12:58 / 02.02.2017</td>\n",
       "      <td>Andijonda Damas rusumidagi avtomashinalarda yo...</td>\n",
       "      <td>Andijon  Respublikamizda aholi zich istiqomat ...</td>\n",
       "      <td>O‘zbekiston yangiliklari</td>\n",
       "      <td>#Andijon</td>\n",
       "    </tr>\n",
       "    <tr>\n",
       "      <th>124390</th>\n",
       "      <td>15:18 / 22.06.2016</td>\n",
       "      <td>Toshkent sammitiga keladigan Pokiston delegats...</td>\n",
       "      <td>Shanxay hamkorlik tashkilotining Toshkent samm...</td>\n",
       "      <td>Jahon yangiliklari</td>\n",
       "      <td>NaN</td>\n",
       "    </tr>\n",
       "    <tr>\n",
       "      <th>160910</th>\n",
       "      <td>20:10 / 21.05.2022</td>\n",
       "      <td>“Kelajakda o‘rningizni birov egallamasligi uch...</td>\n",
       "      <td>O‘zbekistonda logistika sohasi rivojlanishida ...</td>\n",
       "      <td>Jamiyat yangiliklari</td>\n",
       "      <td>#Transformatsiya,#BTS,#Behzod Jalolov</td>\n",
       "    </tr>\n",
       "    <tr>\n",
       "      <th>232088</th>\n",
       "      <td>08:33 / 31.07.2015</td>\n",
       "      <td>Albaniyalik muxlislar YeL saralashi o‘yinida m...</td>\n",
       "      <td>30 iyul kuni Yevropa ligasi saralashi doirasid...</td>\n",
       "      <td>Sport yangiliklari</td>\n",
       "      <td>NaN</td>\n",
       "    </tr>\n",
       "    <tr>\n",
       "      <th>115575</th>\n",
       "      <td>18:49 / 25.08.2015</td>\n",
       "      <td>Ahmad Hoji Qodirov nomidagi jamg‘arma Quddusda...</td>\n",
       "      <td>Ahmad Hoji Qodirov nomidagi mintaqaviy jamoat ...</td>\n",
       "      <td>Jahon yangiliklari</td>\n",
       "      <td>NaN</td>\n",
       "    </tr>\n",
       "    <tr>\n",
       "      <th>240584</th>\n",
       "      <td>21:02 / 18.02.2017</td>\n",
       "      <td>La-liga. «Atletiko» Kevin Gameyroning noyob na...</td>\n",
       "      <td>Ispaniya chempionatining 23-turidan o‘rin olga...</td>\n",
       "      <td>Sport yangiliklari</td>\n",
       "      <td>#Atletiko Madrid,#Sporting Xixon</td>\n",
       "    </tr>\n",
       "    <tr>\n",
       "      <th>143550</th>\n",
       "      <td>17:43 / 06.02.2019</td>\n",
       "      <td>Qaysi davlatda atom bombasi eng ko‘p?</td>\n",
       "      <td>Atom bombasi yoki yadro quroli insoniyat yarat...</td>\n",
       "      <td>Jahon yangiliklari</td>\n",
       "      <td>#atom bombasi,#vodorod bombasi</td>\n",
       "    </tr>\n",
       "    <tr>\n",
       "      <th>118092</th>\n",
       "      <td>15:53 / 03.11.2015</td>\n",
       "      <td>AQSh Tojikistonni fuqarolarning diniy huquqlar...</td>\n",
       "      <td>AQSh Tojikiston hukumatining fuqarolarning din...</td>\n",
       "      <td>Jahon yangiliklari</td>\n",
       "      <td>NaN</td>\n",
       "    </tr>\n",
       "    <tr>\n",
       "      <th>55770</th>\n",
       "      <td>14:27 / 22.02.2020</td>\n",
       "      <td>Pensiya yoshini oshirish rejalashtirilmayapti ...</td>\n",
       "      <td>Moliya vaziri Jamshid Qo‘chqorov internetda pe...</td>\n",
       "      <td>O‘zbekiston yangiliklari</td>\n",
       "      <td>#pensiya,#Jamshid Qo‘chqorov</td>\n",
       "    </tr>\n",
       "  </tbody>\n",
       "</table>\n",
       "</div>"
      ],
      "text/plain": [
       "                      date                                              title  \\\n",
       "145827  01:08 / 03.09.2019   Tramp AQShning asosiy dushmanlarini sanab o‘tdi    \n",
       "39471   12:58 / 02.02.2017  Andijonda Damas rusumidagi avtomashinalarda yo...   \n",
       "124390  15:18 / 22.06.2016  Toshkent sammitiga keladigan Pokiston delegats...   \n",
       "160910  20:10 / 21.05.2022  “Kelajakda o‘rningizni birov egallamasligi uch...   \n",
       "232088  08:33 / 31.07.2015  Albaniyalik muxlislar YeL saralashi o‘yinida m...   \n",
       "115575  18:49 / 25.08.2015  Ahmad Hoji Qodirov nomidagi jamg‘arma Quddusda...   \n",
       "240584  21:02 / 18.02.2017  La-liga. «Atletiko» Kevin Gameyroning noyob na...   \n",
       "143550  17:43 / 06.02.2019             Qaysi davlatda atom bombasi eng ko‘p?    \n",
       "118092  15:53 / 03.11.2015  AQSh Tojikistonni fuqarolarning diniy huquqlar...   \n",
       "55770   14:27 / 22.02.2020  Pensiya yoshini oshirish rejalashtirilmayapti ...   \n",
       "\n",
       "                                                  content  \\\n",
       "145827  AQSh prezidenti Donald Tramp yolg‘on tarqatuvc...   \n",
       "39471   Andijon  Respublikamizda aholi zich istiqomat ...   \n",
       "124390  Shanxay hamkorlik tashkilotining Toshkent samm...   \n",
       "160910  O‘zbekistonda logistika sohasi rivojlanishida ...   \n",
       "232088  30 iyul kuni Yevropa ligasi saralashi doirasid...   \n",
       "115575  Ahmad Hoji Qodirov nomidagi mintaqaviy jamoat ...   \n",
       "240584  Ispaniya chempionatining 23-turidan o‘rin olga...   \n",
       "143550  Atom bombasi yoki yadro quroli insoniyat yarat...   \n",
       "118092  AQSh Tojikiston hukumatining fuqarolarning din...   \n",
       "55770   Moliya vaziri Jamshid Qo‘chqorov internetda pe...   \n",
       "\n",
       "                        category                                hashtag  \n",
       "145827        Jahon yangiliklari                    #Donald Tramp,#AQSh  \n",
       "39471   O‘zbekiston yangiliklari                               #Andijon  \n",
       "124390        Jahon yangiliklari                                    NaN  \n",
       "160910      Jamiyat yangiliklari  #Transformatsiya,#BTS,#Behzod Jalolov  \n",
       "232088        Sport yangiliklari                                    NaN  \n",
       "115575        Jahon yangiliklari                                    NaN  \n",
       "240584        Sport yangiliklari       #Atletiko Madrid,#Sporting Xixon  \n",
       "143550        Jahon yangiliklari         #atom bombasi,#vodorod bombasi  \n",
       "118092        Jahon yangiliklari                                    NaN  \n",
       "55770   O‘zbekiston yangiliklari           #pensiya,#Jamshid Qo‘chqorov  "
      ]
     },
     "execution_count": 2,
     "metadata": {},
     "output_type": "execute_result"
    }
   ],
   "source": [
    "path = 'kun_uz/kun_uz.csv'\n",
    "\n",
    "kun = pd.read_csv(path)\n",
    "kun.sample(10)"
   ]
  },
  {
   "cell_type": "code",
   "execution_count": 3,
   "id": "b0516a44-9902-4a43-87da-f5ec7ad801ba",
   "metadata": {},
   "outputs": [
    {
     "name": "stdout",
     "output_type": "stream",
     "text": [
      "<class 'pandas.core.frame.DataFrame'>\n",
      "RangeIndex: 249978 entries, 0 to 249977\n",
      "Data columns (total 5 columns):\n",
      " #   Column    Non-Null Count   Dtype \n",
      "---  ------    --------------   ----- \n",
      " 0   date      249977 non-null  object\n",
      " 1   title     249977 non-null  object\n",
      " 2   content   249677 non-null  object\n",
      " 3   category  249978 non-null  object\n",
      " 4   hashtag   200802 non-null  object\n",
      "dtypes: object(5)\n",
      "memory usage: 9.5+ MB\n"
     ]
    }
   ],
   "source": [
    "kun.info()"
   ]
  },
  {
   "cell_type": "code",
   "execution_count": 4,
   "id": "efc6abc3-0259-4f74-93cc-7a7ba8af9e5a",
   "metadata": {
    "tags": []
   },
   "outputs": [
    {
     "name": "stdout",
     "output_type": "stream",
     "text": [
      "Size: 485 MB\n"
     ]
    }
   ],
   "source": [
    "print(f\"Size: {os.path.getsize(path)//1024**2} MB\")"
   ]
  },
  {
   "cell_type": "markdown",
   "id": "c97234b5-6ffc-4bf6-a206-a6ff3919907f",
   "metadata": {},
   "source": [
    "## lex.uz"
   ]
  },
  {
   "cell_type": "code",
   "execution_count": 5,
   "id": "6ba8d7fe-1181-4307-875e-c31de601aeb8",
   "metadata": {
    "tags": []
   },
   "outputs": [
    {
     "data": {
      "text/html": [
       "<div>\n",
       "<style scoped>\n",
       "    .dataframe tbody tr th:only-of-type {\n",
       "        vertical-align: middle;\n",
       "    }\n",
       "\n",
       "    .dataframe tbody tr th {\n",
       "        vertical-align: top;\n",
       "    }\n",
       "\n",
       "    .dataframe thead th {\n",
       "        text-align: right;\n",
       "    }\n",
       "</style>\n",
       "<table border=\"1\" class=\"dataframe\">\n",
       "  <thead>\n",
       "    <tr style=\"text-align: right;\">\n",
       "      <th></th>\n",
       "      <th>from</th>\n",
       "      <th>title</th>\n",
       "      <th>content</th>\n",
       "    </tr>\n",
       "  </thead>\n",
       "  <tbody>\n",
       "    <tr>\n",
       "      <th>10509</th>\n",
       "      <td>O‘zbekiston Respublikasi Vazirlar Mahkamasinin...</td>\n",
       "      <td>O‘ZBEKISTON RESPUBLIKASIDA OMMAVIY AXBOROT VOS...</td>\n",
       "      <td>Hujjat kuchini yo‘qotgan 22.07.2022\\r\\n       ...</td>\n",
       "    </tr>\n",
       "    <tr>\n",
       "      <th>8330</th>\n",
       "      <td>O‘zbekiston Respublikasi Vazirlar Mahkamasinin...</td>\n",
       "      <td>“O‘ZMEVASABZAVOTUZUMSANOATXOLDING” KOMPANIYASI...</td>\n",
       "      <td>[OKOZ:1.09.00.00.00 Tadbirkorlik va xo‘jalik f...</td>\n",
       "    </tr>\n",
       "    <tr>\n",
       "      <th>22385</th>\n",
       "      <td>O‘zbekiston Respublikasi Vazirlar Mahkamasinin...</td>\n",
       "      <td>Jizzax viloyatida jamoat tartibini saqlashni, ...</td>\n",
       "      <td>[OKOZ:1.16.00.00.00 Xavfsizlik va huquq tartib...</td>\n",
       "    </tr>\n",
       "    <tr>\n",
       "      <th>28572</th>\n",
       "      <td>O‘zbekiston Respublikasi Prezidentining Qarori</td>\n",
       "      <td>Yetim bolalar va ota-ona qaramog‘idan mahrum b...</td>\n",
       "      <td>[OKOZ:1.01.00.00.00 Konstitutsiyaviy tuzum / 0...</td>\n",
       "    </tr>\n",
       "    <tr>\n",
       "      <th>17201</th>\n",
       "      <td>O‘zbekiston Respublikasi Vazirlar Mahkamasinin...</td>\n",
       "      <td>Kasb faoliyatining ayrim turlarini va xavfning...</td>\n",
       "      <td>[OKOZ:1.05.00.00.00 Mehnat va aholining bandli...</td>\n",
       "    </tr>\n",
       "    <tr>\n",
       "      <th>25914</th>\n",
       "      <td>O‘zbekiston Respublikasi Vazirlar Mahkamasinin...</td>\n",
       "      <td>Toshkent shahrining Yakkasaroy tumani, Jizzax ...</td>\n",
       "      <td>[OKOZ:1.08.00.00.00 Uy-joy qonunchiligi. Kommu...</td>\n",
       "    </tr>\n",
       "    <tr>\n",
       "      <th>23303</th>\n",
       "      <td>O‘zbekiston Respublikasi Vazirlar Mahkamasinin...</td>\n",
       "      <td>“2-GMZning qayta ishlash quvvatlarini kengayti...</td>\n",
       "      <td>[OKOZ:1.07.00.00.00 Moliya va kredit to‘g‘risi...</td>\n",
       "    </tr>\n",
       "    <tr>\n",
       "      <th>17327</th>\n",
       "      <td>O‘ZBEKISTON RESPUBLIKASI MARKAZIY BANKI BOShQA...</td>\n",
       "      <td>O‘zbekiston Respublikasi Markaziy bankining hi...</td>\n",
       "      <td>[OKOZ:1.03.00.00.00 Fuqarolik qonunchiligi / 0...</td>\n",
       "    </tr>\n",
       "    <tr>\n",
       "      <th>27684</th>\n",
       "      <td>O‘zbekiston Respublikasi Oliy Majlisi Qonunchi...</td>\n",
       "      <td>“Litsenziyalash, ruxsat berish va xabardor qil...</td>\n",
       "      <td>[OKOZ:1.01.00.00.00 Konstitutsiyaviy tuzum / 0...</td>\n",
       "    </tr>\n",
       "    <tr>\n",
       "      <th>19410</th>\n",
       "      <td>O‘zbekiston Respublikasi Moliya vazirining buy...</td>\n",
       "      <td>“O‘zbekiston Respublikasi Buxgalteriya hisobin...</td>\n",
       "      <td>[OKOZ:1.07.00.00.00 Moliya va kredit to‘g‘risi...</td>\n",
       "    </tr>\n",
       "  </tbody>\n",
       "</table>\n",
       "</div>"
      ],
      "text/plain": [
       "                                                    from  \\\n",
       "10509  O‘zbekiston Respublikasi Vazirlar Mahkamasinin...   \n",
       "8330   O‘zbekiston Respublikasi Vazirlar Mahkamasinin...   \n",
       "22385  O‘zbekiston Respublikasi Vazirlar Mahkamasinin...   \n",
       "28572     O‘zbekiston Respublikasi Prezidentining Qarori   \n",
       "17201  O‘zbekiston Respublikasi Vazirlar Mahkamasinin...   \n",
       "25914  O‘zbekiston Respublikasi Vazirlar Mahkamasinin...   \n",
       "23303  O‘zbekiston Respublikasi Vazirlar Mahkamasinin...   \n",
       "17327  O‘ZBEKISTON RESPUBLIKASI MARKAZIY BANKI BOShQA...   \n",
       "27684  O‘zbekiston Respublikasi Oliy Majlisi Qonunchi...   \n",
       "19410  O‘zbekiston Respublikasi Moliya vazirining buy...   \n",
       "\n",
       "                                                   title  \\\n",
       "10509  O‘ZBEKISTON RESPUBLIKASIDA OMMAVIY AXBOROT VOS...   \n",
       "8330   “O‘ZMEVASABZAVOTUZUMSANOATXOLDING” KOMPANIYASI...   \n",
       "22385  Jizzax viloyatida jamoat tartibini saqlashni, ...   \n",
       "28572  Yetim bolalar va ota-ona qaramog‘idan mahrum b...   \n",
       "17201  Kasb faoliyatining ayrim turlarini va xavfning...   \n",
       "25914  Toshkent shahrining Yakkasaroy tumani, Jizzax ...   \n",
       "23303  “2-GMZning qayta ishlash quvvatlarini kengayti...   \n",
       "17327  O‘zbekiston Respublikasi Markaziy bankining hi...   \n",
       "27684  “Litsenziyalash, ruxsat berish va xabardor qil...   \n",
       "19410  “O‘zbekiston Respublikasi Buxgalteriya hisobin...   \n",
       "\n",
       "                                                 content  \n",
       "10509  Hujjat kuchini yo‘qotgan 22.07.2022\\r\\n       ...  \n",
       "8330   [OKOZ:1.09.00.00.00 Tadbirkorlik va xo‘jalik f...  \n",
       "22385  [OKOZ:1.16.00.00.00 Xavfsizlik va huquq tartib...  \n",
       "28572  [OKOZ:1.01.00.00.00 Konstitutsiyaviy tuzum / 0...  \n",
       "17201  [OKOZ:1.05.00.00.00 Mehnat va aholining bandli...  \n",
       "25914  [OKOZ:1.08.00.00.00 Uy-joy qonunchiligi. Kommu...  \n",
       "23303  [OKOZ:1.07.00.00.00 Moliya va kredit to‘g‘risi...  \n",
       "17327  [OKOZ:1.03.00.00.00 Fuqarolik qonunchiligi / 0...  \n",
       "27684  [OKOZ:1.01.00.00.00 Konstitutsiyaviy tuzum / 0...  \n",
       "19410  [OKOZ:1.07.00.00.00 Moliya va kredit to‘g‘risi...  "
      ]
     },
     "execution_count": 5,
     "metadata": {},
     "output_type": "execute_result"
    }
   ],
   "source": [
    "path = 'lex_uz/lex_uz.csv'\n",
    "\n",
    "lex = pd.read_csv(path)\n",
    "lex.sample(10)"
   ]
  },
  {
   "cell_type": "code",
   "execution_count": 6,
   "id": "39c88358-9bc5-4278-9d53-80859d20d3b4",
   "metadata": {
    "tags": []
   },
   "outputs": [
    {
     "name": "stdout",
     "output_type": "stream",
     "text": [
      "<class 'pandas.core.frame.DataFrame'>\n",
      "RangeIndex: 32197 entries, 0 to 32196\n",
      "Data columns (total 3 columns):\n",
      " #   Column   Non-Null Count  Dtype \n",
      "---  ------   --------------  ----- \n",
      " 0   from     32143 non-null  object\n",
      " 1   title    32097 non-null  object\n",
      " 2   content  32197 non-null  object\n",
      "dtypes: object(3)\n",
      "memory usage: 754.7+ KB\n"
     ]
    }
   ],
   "source": [
    "lex.info()"
   ]
  },
  {
   "cell_type": "code",
   "execution_count": 7,
   "id": "a61d4284-bc6d-4827-9a9e-0e6e552f738e",
   "metadata": {
    "tags": []
   },
   "outputs": [
    {
     "name": "stdout",
     "output_type": "stream",
     "text": [
      "Size: 477 MB\n"
     ]
    }
   ],
   "source": [
    "print(f\"Size: {os.path.getsize(path)//1024**2} MB\")"
   ]
  },
  {
   "cell_type": "markdown",
   "id": "61e4d73a-7d57-4da3-9489-c92064a08791",
   "metadata": {},
   "source": [
    "## uz.wikipedia.org"
   ]
  },
  {
   "cell_type": "code",
   "execution_count": 8,
   "id": "739d0b16-430d-488c-9807-3adcdd95bba9",
   "metadata": {
    "tags": []
   },
   "outputs": [
    {
     "data": {
      "text/html": [
       "<div>\n",
       "<style scoped>\n",
       "    .dataframe tbody tr th:only-of-type {\n",
       "        vertical-align: middle;\n",
       "    }\n",
       "\n",
       "    .dataframe tbody tr th {\n",
       "        vertical-align: top;\n",
       "    }\n",
       "\n",
       "    .dataframe thead th {\n",
       "        text-align: right;\n",
       "    }\n",
       "</style>\n",
       "<table border=\"1\" class=\"dataframe\">\n",
       "  <thead>\n",
       "    <tr style=\"text-align: right;\">\n",
       "      <th></th>\n",
       "      <th>date</th>\n",
       "      <th>title</th>\n",
       "      <th>content</th>\n",
       "      <th>url</th>\n",
       "    </tr>\n",
       "  </thead>\n",
       "  <tbody>\n",
       "    <tr>\n",
       "      <th>321719</th>\n",
       "      <td>18-Noyabr 2022, 16:09</td>\n",
       "      <td>Marigny-sur-Yonne</td>\n",
       "      <td>Vikipediya, ochiq ensiklopediya    Marigny...</td>\n",
       "      <td>https://uz.wikipedia.org/wiki/Marigny-sur-Yonne</td>\n",
       "    </tr>\n",
       "    <tr>\n",
       "      <th>328325</th>\n",
       "      <td>18-Noyabr 2022, 16:02</td>\n",
       "      <td>Lussagnet-Lusson</td>\n",
       "      <td>Vikipediya, ochiq ensiklopediya    Lussagn...</td>\n",
       "      <td>https://uz.wikipedia.org/wiki/Lussagnet-Lusson</td>\n",
       "    </tr>\n",
       "    <tr>\n",
       "      <th>272355</th>\n",
       "      <td>18-Noyabr 2022, 16:32</td>\n",
       "      <td>Neuve-Église</td>\n",
       "      <td>Vikipediya, ochiq ensiklopediya    Neuve-É...</td>\n",
       "      <td>https://uz.wikipedia.org/wiki/Neuve-%C3%89glise</td>\n",
       "    </tr>\n",
       "    <tr>\n",
       "      <th>460463</th>\n",
       "      <td>3-Sentyabr 2022, 18:35</td>\n",
       "      <td>Disulfid bogʻlar</td>\n",
       "      <td>Vikipediya, ochiq ensiklopediya    Disulfi...</td>\n",
       "      <td>https://uz.wikipedia.org/wiki/Disulfid_bog%CA%...</td>\n",
       "    </tr>\n",
       "    <tr>\n",
       "      <th>136017</th>\n",
       "      <td>30-Noyabr 2022, 07:23</td>\n",
       "      <td>Xəlilli (Jalilabad)</td>\n",
       "      <td>Vikipediya, ochiq ensiklopediya    Xəlilli...</td>\n",
       "      <td>https://uz.wikipedia.org/wiki/X%C9%99lilli_(Ja...</td>\n",
       "    </tr>\n",
       "    <tr>\n",
       "      <th>90103</th>\n",
       "      <td>11-Iyul 2022, 11:33</td>\n",
       "      <td>Merenschwand</td>\n",
       "      <td>Vikipediya, ochiq ensiklopediya   ( Меренш...</td>\n",
       "      <td>https://uz.wikipedia.org/wiki/%D0%9C%D0%B5%D1%...</td>\n",
       "    </tr>\n",
       "    <tr>\n",
       "      <th>128603</th>\n",
       "      <td>4-Sentyabr 2022, 20:33</td>\n",
       "      <td>Yusuf yasovulboshi madrasasi</td>\n",
       "      <td>Vikipediya, ochiq ensiklopediya    Yusuf y...</td>\n",
       "      <td>https://uz.wikipedia.org/wiki/Yusuf_yasovulbos...</td>\n",
       "    </tr>\n",
       "    <tr>\n",
       "      <th>256119</th>\n",
       "      <td>16-Noyabr 2022, 10:39</td>\n",
       "      <td>Ortignano Raggiolo</td>\n",
       "      <td>Vikipediya, ochiq ensiklopediya    Ortigna...</td>\n",
       "      <td>https://uz.wikipedia.org/wiki/Ortignano_Raggiolo</td>\n",
       "    </tr>\n",
       "    <tr>\n",
       "      <th>275941</th>\n",
       "      <td>4-Sentyabr 2022, 14:17</td>\n",
       "      <td>Vladimir Nalivkin</td>\n",
       "      <td>Vikipediya, ochiq ensiklopediya   ( Nalivk...</td>\n",
       "      <td>https://uz.wikipedia.org/wiki/Nalivkin_Vladimi...</td>\n",
       "    </tr>\n",
       "    <tr>\n",
       "      <th>195640</th>\n",
       "      <td>3-Oktyabr 2020, 16:56</td>\n",
       "      <td>Shimoliy Kavkaz federal okrugi</td>\n",
       "      <td>Vikipediya, ochiq ensiklopediya     Okrug ...</td>\n",
       "      <td>https://uz.wikipedia.org/wiki/Shimoliy_Kavkaz_...</td>\n",
       "    </tr>\n",
       "  </tbody>\n",
       "</table>\n",
       "</div>"
      ],
      "text/plain": [
       "                          date                           title  \\\n",
       "321719   18-Noyabr 2022, 16:09               Marigny-sur-Yonne   \n",
       "328325   18-Noyabr 2022, 16:02                Lussagnet-Lusson   \n",
       "272355   18-Noyabr 2022, 16:32                    Neuve-Église   \n",
       "460463  3-Sentyabr 2022, 18:35                Disulfid bogʻlar   \n",
       "136017   30-Noyabr 2022, 07:23             Xəlilli (Jalilabad)   \n",
       "90103      11-Iyul 2022, 11:33                    Merenschwand   \n",
       "128603  4-Sentyabr 2022, 20:33    Yusuf yasovulboshi madrasasi   \n",
       "256119   16-Noyabr 2022, 10:39              Ortignano Raggiolo   \n",
       "275941  4-Sentyabr 2022, 14:17               Vladimir Nalivkin   \n",
       "195640   3-Oktyabr 2020, 16:56  Shimoliy Kavkaz federal okrugi   \n",
       "\n",
       "                                                  content  \\\n",
       "321719      Vikipediya, ochiq ensiklopediya    Marigny...   \n",
       "328325      Vikipediya, ochiq ensiklopediya    Lussagn...   \n",
       "272355      Vikipediya, ochiq ensiklopediya    Neuve-É...   \n",
       "460463      Vikipediya, ochiq ensiklopediya    Disulfi...   \n",
       "136017      Vikipediya, ochiq ensiklopediya    Xəlilli...   \n",
       "90103       Vikipediya, ochiq ensiklopediya   ( Меренш...   \n",
       "128603      Vikipediya, ochiq ensiklopediya    Yusuf y...   \n",
       "256119      Vikipediya, ochiq ensiklopediya    Ortigna...   \n",
       "275941      Vikipediya, ochiq ensiklopediya   ( Nalivk...   \n",
       "195640      Vikipediya, ochiq ensiklopediya     Okrug ...   \n",
       "\n",
       "                                                      url  \n",
       "321719    https://uz.wikipedia.org/wiki/Marigny-sur-Yonne  \n",
       "328325     https://uz.wikipedia.org/wiki/Lussagnet-Lusson  \n",
       "272355    https://uz.wikipedia.org/wiki/Neuve-%C3%89glise  \n",
       "460463  https://uz.wikipedia.org/wiki/Disulfid_bog%CA%...  \n",
       "136017  https://uz.wikipedia.org/wiki/X%C9%99lilli_(Ja...  \n",
       "90103   https://uz.wikipedia.org/wiki/%D0%9C%D0%B5%D1%...  \n",
       "128603  https://uz.wikipedia.org/wiki/Yusuf_yasovulbos...  \n",
       "256119   https://uz.wikipedia.org/wiki/Ortignano_Raggiolo  \n",
       "275941  https://uz.wikipedia.org/wiki/Nalivkin_Vladimi...  \n",
       "195640  https://uz.wikipedia.org/wiki/Shimoliy_Kavkaz_...  "
      ]
     },
     "execution_count": 8,
     "metadata": {},
     "output_type": "execute_result"
    }
   ],
   "source": [
    "path = 'wiki_uz/wiki_uz.csv'\n",
    "\n",
    "wiki = pd.read_csv(path)\n",
    "wiki.content = wiki.content.str.replace('\\n','')\n",
    "wiki.sample(10)"
   ]
  },
  {
   "cell_type": "code",
   "execution_count": 9,
   "id": "670c79b3-7290-490d-925e-0279e446dbc7",
   "metadata": {
    "tags": []
   },
   "outputs": [
    {
     "name": "stdout",
     "output_type": "stream",
     "text": [
      "<class 'pandas.core.frame.DataFrame'>\n",
      "RangeIndex: 562576 entries, 0 to 562575\n",
      "Data columns (total 4 columns):\n",
      " #   Column   Non-Null Count   Dtype \n",
      "---  ------   --------------   ----- \n",
      " 0   date     562527 non-null  object\n",
      " 1   title    562573 non-null  object\n",
      " 2   content  562576 non-null  object\n",
      " 3   url      562576 non-null  object\n",
      "dtypes: object(4)\n",
      "memory usage: 17.2+ MB\n"
     ]
    }
   ],
   "source": [
    "wiki.info()"
   ]
  },
  {
   "cell_type": "code",
   "execution_count": 10,
   "id": "f6cc0011-8b4c-48ea-8271-70462aa92cc3",
   "metadata": {
    "tags": []
   },
   "outputs": [
    {
     "name": "stdout",
     "output_type": "stream",
     "text": [
      "Size: 2156 MB\n"
     ]
    }
   ],
   "source": [
    "print(f\"Size: {os.path.getsize(path)//1024**2} MB\")"
   ]
  },
  {
   "cell_type": "code",
   "execution_count": null,
   "id": "49e4503b-40e6-41d8-88a4-ae1e86d25085",
   "metadata": {},
   "outputs": [],
   "source": []
  }
 ],
 "metadata": {
  "kernelspec": {
   "display_name": "Python 3 (ipykernel)",
   "language": "python",
   "name": "python3"
  },
  "language_info": {
   "codemirror_mode": {
    "name": "ipython",
    "version": 3
   },
   "file_extension": ".py",
   "mimetype": "text/x-python",
   "name": "python",
   "nbconvert_exporter": "python",
   "pygments_lexer": "ipython3",
   "version": "3.10.12"
  }
 },
 "nbformat": 4,
 "nbformat_minor": 5
}
